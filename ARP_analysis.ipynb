{
 "cells": [
  {
   "cell_type": "code",
   "execution_count": 1,
   "metadata": {},
   "outputs": [],
   "source": [
    "import numpy as np\n",
    "\n",
    "import matplotlib\n",
    "import matplotlib.pyplot as plt\n",
    "from ipywidgets import interact, interactive, fixed, interact_manual\n",
    "import ipywidgets as widgets\n",
    "\n",
    "import arpclass as arpc\n",
    "\n",
    "%matplotlib inline\n",
    "matplotlib.rcParams['figure.figsize'] = [12,8]\n",
    "matplotlib.rc('font',family='Monospace')"
   ]
  },
  {
   "cell_type": "code",
   "execution_count": 2,
   "metadata": {},
   "outputs": [
    {
     "data": {
      "application/vnd.jupyter.widget-view+json": {
       "model_id": "0c8044d6ce554180bd7287f8302bb914",
       "version_major": 2,
       "version_minor": 0
      },
      "text/plain": [
       "interactive(children=(IntSlider(value=5, description='numproc', max=10, min=1), FloatSlider(value=0.5, descrip…"
      ]
     },
     "metadata": {},
     "output_type": "display_data"
    }
   ],
   "source": [
    "generations = 50\n",
    "g = np.arange(generations+1)\n",
    "colors =[['fcaf3e','ce5c00'],['729fcf','204a87'],['8ae234','4e9a06'],['fce94f','c4a000'], ['ad7fa8','5c3566'],['ef2929','a40000'],['e9b96e','8f5902']]\n",
    "@interact\n",
    "def InteractiveWindow(numproc = (1,10,1), lambda1 = (0,1.), lambda2 = (0,1.), Aangle = (0,1.), alpha = (0,1.), noise1 = (0,2.), noise2 = (0,2.), experimenttype = ['sisters','nonsisters','control']):\n",
    "    p = [arpc.ARP(eigval = [lambda1,lambda2], A_angle = Aangle, noiseamplitudes = [noise1,noise2], alpha_angle = alpha, experimenttype = experimenttype, steps = generations) for i in range(numproc)]\n",
    "    for i in range(numproc):\n",
    "        p[i].run()\n",
    "        traj = p[i].output_all()\n",
    "        plt.plot(g, traj[0], c = '#{}'.format(colors[i % len(colors)][0]))\n",
    "        plt.plot(g, traj[1], c = '#{}'.format(colors[i % len(colors)][1]))"
   ]
  },
  {
   "cell_type": "code",
   "execution_count": 3,
   "metadata": {},
   "outputs": [
    {
     "data": {
      "application/vnd.jupyter.widget-view+json": {
       "model_id": "57bc2aef1e92451297a62f34cc7289dc",
       "version_major": 2,
       "version_minor": 0
      },
      "text/plain": [
       "interactive(children=(IntSlider(value=100, description='numproc', max=200, step=10), FloatSlider(value=0.5, de…"
      ]
     },
     "metadata": {},
     "output_type": "display_data"
    }
   ],
   "source": [
    "@interact\n",
    "def InteractiveWindow(numproc = (0,200,10), lambda1 = (0,1.), lambda2 = (0,1.), Aangle = (0,1.), alpha = (0,1.), noise1 = (0,2.), noise2 = (0,2.), yzoom=(0,10,1)):\n",
    "    for experimenttype in  ['sisters','nonsisters','control']:\n",
    "        p = [MDARP(eigval = [lambda1,lambda2], A_angle = Aangle, noiseamplitudes = [noise1,noise2], alpha_angle = alpha, experimenttype = experimenttype, steps = generations) for i in range(numproc)]\n",
    "        sum_dt2 = np.zeros(generations+1)\n",
    "        for i in range(numproc):\n",
    "            p[i].run()\n",
    "            traj = p[i].output_all()\n",
    "\n",
    "            dt = np.array([np.sum(traj[0][:j]-traj[1][:j]) for j in range(generations+1)])\n",
    "\n",
    "            #print(dt)\n",
    "            if i == 0:\n",
    "                all_dt = np.array([dt])\n",
    "            else:\n",
    "                all_dt = np.vstack([all_dt,[dt]])\n",
    "\n",
    "            #sum_dt2 += np.array([np.sum((traj[0][:j]-traj[1][:j])**2) for j in range(generations+1)])\n",
    "\n",
    "        plt.plot(g,np.var(all_dt,axis = 0))\n",
    "    plt.ylim((0,10**yzoom))\n",
    "    plt.legend( ['sisters','nonsisters','control'])\n",
    "    \n",
    "    \n",
    "    \n",
    "    "
   ]
  },
  {
   "cell_type": "code",
   "execution_count": null,
   "metadata": {},
   "outputs": [],
   "source": []
  }
 ],
 "metadata": {
  "kernelspec": {
   "display_name": "Python 3",
   "language": "python",
   "name": "python3"
  },
  "language_info": {
   "codemirror_mode": {
    "name": "ipython",
    "version": 3
   },
   "file_extension": ".py",
   "mimetype": "text/x-python",
   "name": "python",
   "nbconvert_exporter": "python",
   "pygments_lexer": "ipython3",
   "version": "3.6.8"
  }
 },
 "nbformat": 4,
 "nbformat_minor": 2
}
