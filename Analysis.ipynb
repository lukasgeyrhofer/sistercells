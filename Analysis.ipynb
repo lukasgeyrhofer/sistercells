{
 "cells": [
  {
   "cell_type": "code",
   "execution_count": 60,
   "metadata": {},
   "outputs": [],
   "source": [
    "from imp import reload\n",
    "\n",
    "import numpy as np\n",
    "import pandas as pd\n",
    "import sys,math\n",
    "import sistercellclass as scc; reload(scc)\n",
    "import os\n",
    "\n",
    "import matplotlib.pyplot as plt\n",
    "%matplotlib inline\n",
    "plt.rcParams['figure.figsize'] = [16, 9]\n"
   ]
  },
  {
   "cell_type": "code",
   "execution_count": 61,
   "metadata": {},
   "outputs": [],
   "source": [
    "datadir   = '/home/lukas/projects/sistercells/experiments/SISTERS-NONSISTERS/SISTERS/'\n",
    "datafiles = [os.path.join(datadir,fn) for fn in os.listdir(datadir) if os.path.splitext(fn)[1][1:].upper() == 'XLS']\n",
    "\n",
    "#datafiles = ['/home/lukas/projects/sistercells/experiments/SISTERS-NONSISTERS/SISTERS/072818POS9_ch2t_sis2.xls']\n",
    "\n",
    "data      = scc.SisterCellData(infiles = datafiles, debugmode = False)"
   ]
  },
  {
   "cell_type": "code",
   "execution_count": 62,
   "metadata": {},
   "outputs": [
    {
     "name": "stdout",
     "output_type": "stream",
     "text": [
      "/home/lukas/projects/sistercells/experiments/SISTERS-NONSISTERS/SISTERS/101218_Pos8_6_sis.xls B 30\n",
      "/home/lukas/projects/sistercells/experiments/SISTERS-NONSISTERS/SISTERS/072818_Pos1_7_sis.xls A 63\n",
      "/home/lukas/projects/sistercells/experiments/SISTERS-NONSISTERS/SISTERS/101218_Pos8_17.xls B 28\n",
      "/home/lukas/projects/sistercells/experiments/SISTERS-NONSISTERS/SISTERS/072818_Pos4_2_sis.xls B 20\n",
      "/home/lukas/projects/sistercells/experiments/SISTERS-NONSISTERS/SISTERS/101218_Pos2_14_sis.xls A 112\n"
     ]
    }
   ],
   "source": [
    "\n",
    "for dataID,filename,x in data:\n",
    "    #print dataID,filename\n",
    "    cdivA,cdivB = data.CellDivisionTrajectory(dataID)\n",
    "    #print np.array(cdivA['generationtimeA']),np.array(cdivB['generationtimeB'])\n",
    "    if dataID == 0:\n",
    "        gentime = np.concatenate([np.array(cdivA['generationtimeA']),np.array(cdivB['generationtimeB'])])\n",
    "    else:\n",
    "        gentime = np.concatenate([gentime,np.array(cdivA['generationtimeA']),np.array(cdivB['generationtimeB'])])\n",
    "    #print\n",
    "\n",
    "#np.savetxt('tmp.txt',gentime)\n",
    "#plt.hist(gentime,range=(0,2),bins=40,log=True)\n",
    "#print gentime\n",
    "#print max(gentime)\n",
    "#gth = dict()\n",
    "#for x in np.arange(0,2.1,.05):\n",
    "#    gth['{:.2f}'.format(x)] = 0\n",
    "#for g in gentime:\n",
    "#    gth['{:.2f}'.format(g)] += 1\n",
    "\n",
    "#print gth\n"
   ]
  },
  {
   "cell_type": "code",
   "execution_count": null,
   "metadata": {},
   "outputs": [],
   "source": [
    "print cdivA"
   ]
  },
  {
   "cell_type": "code",
   "execution_count": null,
   "metadata": {},
   "outputs": [],
   "source": []
  }
 ],
 "metadata": {
  "kernelspec": {
   "display_name": "Python 2",
   "language": "python",
   "name": "python2"
  },
  "language_info": {
   "codemirror_mode": {
    "name": "ipython",
    "version": 2
   },
   "file_extension": ".py",
   "mimetype": "text/x-python",
   "name": "python",
   "nbconvert_exporter": "python",
   "pygments_lexer": "ipython2",
   "version": "2.7.15"
  }
 },
 "nbformat": 4,
 "nbformat_minor": 2
}
