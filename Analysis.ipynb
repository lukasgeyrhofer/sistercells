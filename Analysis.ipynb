{
 "cells": [
  {
   "cell_type": "code",
   "execution_count": 1,
   "metadata": {},
   "outputs": [],
   "source": [
    "from imp import reload\n",
    "\n",
    "import numpy as np\n",
    "import pandas as pd\n",
    "import sys,math\n",
    "import sistercellclass as scc; reload(scc)\n",
    "import os\n",
    "\n",
    "import matplotlib.pyplot as plt\n",
    "%matplotlib notebook\n",
    "# %matplotlib inline\n",
    "plt.rcParams['figure.figsize'] = [16, 9]\n"
   ]
  },
  {
   "cell_type": "code",
   "execution_count": 2,
   "metadata": {},
   "outputs": [],
   "source": [
    "datadir   = '/home/lukas/projects/sistercells/experiments/SISTERS-NONSISTERS/SISTERS/'\n",
    "datafiles = [os.path.join(datadir,fn) for fn in os.listdir(datadir) if os.path.splitext(fn)[1][1:].upper() == 'XLS']\n",
    "\n",
    "#datafiles = ['/home/lukas/projects/sistercells/experiments/SISTERS-NONSISTERS/SISTERS/072818POS9_ch2t_sis2.xls']\n",
    "\n",
    "data      = scc.SisterCellData(infiles = datafiles, debugmode = False)"
   ]
  },
  {
   "cell_type": "code",
   "execution_count": null,
   "metadata": {},
   "outputs": [],
   "source": [
    "\n",
    "for dataID,filename,x in data:\n",
    "    #print dataID,filename\n",
    "    cdivA,cdivB = data.CellDivisionTrajectory(dataID)\n",
    "    #print np.array(cdivA['generationtimeA']),np.array(cdivB['generationtimeB'])\n",
    "    if dataID == 0:\n",
    "        gentime = np.concatenate([np.array(cdivA['generationtimeA']),np.array(cdivB['generationtimeB'])])\n",
    "    else:\n",
    "        gentime = np.concatenate([gentime,np.array(cdivA['generationtimeA']),np.array(cdivB['generationtimeB'])])\n",
    "    #print\n",
    "\n",
    "#np.savetxt('tmp.txt',gentime)\n",
    "#plt.hist(gentime,range=(0,2),bins=40,log=True)\n",
    "#print gentime\n",
    "#print max(gentime)\n",
    "#gth = dict()\n",
    "#for x in np.arange(0,2.1,.05):\n",
    "#    gth['{:.2f}'.format(x)] = 0\n",
    "#for g in gentime:\n",
    "#    gth['{:.2f}'.format(g)] += 1\n",
    "\n",
    "#print gth\n"
   ]
  },
  {
   "cell_type": "code",
   "execution_count": 3,
   "metadata": {},
   "outputs": [],
   "source": [
    "def autocorrelation (x) :\n",
    "    \"\"\"\n",
    "    Compute the autocorrelation of the signal, based on the properties of the\n",
    "    power spectral density of the signal.\n",
    "    \"\"\"\n",
    "    xp = x-np.mean(x)\n",
    "    f = np.fft.fft(xp)\n",
    "    p = np.array([np.real(v)**2+np.imag(v)**2 for v in f])\n",
    "    pi = np.fft.ifft(p)\n",
    "    return np.real(pi)[:x.size/2]/np.sum(xp**2)"
   ]
  },
  {
   "cell_type": "code",
   "execution_count": 6,
   "metadata": {},
   "outputs": [
    {
     "name": "stdout",
     "output_type": "stream",
     "text": [
      "growth_length\n",
      "length_birth\n",
      "generationtime\n",
      "length_final\n"
     ]
    },
    {
     "data": {
      "text/plain": [
       "<matplotlib.legend.Legend at 0x7f38586adf10>"
      ]
     },
     "execution_count": 6,
     "metadata": {},
     "output_type": "execute_result"
    },
    {
     "data": {
      "image/png": "[encoded data removed]",
      "text/plain": [
       "<Figure size 432x288 with 1 Axes>"
      ]
     },
     "metadata": {
      "needs_background": "light"
     },
     "output_type": "display_data"
    }
   ],
   "source": [
    "acf = dict()\n",
    "for dataID,filename,x in data:\n",
    "    a,b = data.CellDivisionTrajectory(dataID)\n",
    "    for k in [kk for kk in a.keys() if kk[:4]!='time']:\n",
    "        if not k[:-1] in acf.keys():\n",
    "            acf[k[:-1]] = list()\n",
    "        if len(a[k]) > 0:\n",
    "            tmpacf = autocorrelation(a[k])\n",
    "            if not np.isnan(tmpacf).any():\n",
    "                acf[k[:-1]].append(tmpacf)\n",
    "        if len(b[k[:-1]+'B']) > 0:\n",
    "            tmpacf = autocorrelation(b[k[:-1] + 'B'])\n",
    "            if not np.isnan(tmpacf).any():\n",
    "                acf[k[:-1]].append(tmpacf)\n",
    "\n",
    "acf_avg = dict()\n",
    "for k in acf.keys():\n",
    "    maxl  = np.max([len(a) for a in acf[k]])\n",
    "    count = np.zeros(maxl)\n",
    "    acf_avg[k] = np.zeros(maxl)\n",
    "    for a in acf[k]:\n",
    "        acf_avg[k][:len(a)] += a\n",
    "        count[:len(a)] += 1.\n",
    "    acf_avg[k] /= count\n",
    "    print k\n",
    "    #print acf_avg[k]\n",
    "    plt.plot(np.arange(20),acf_avg[k][:20],label = k)\n",
    "plt.plot(np.arange(20),np.zeros(20))\n",
    "plt.legend()"
   ]
  },
  {
   "cell_type": "code",
   "execution_count": null,
   "metadata": {},
   "outputs": [],
   "source": []
  }
 ],
 "metadata": {
  "kernelspec": {
   "display_name": "Python 2",
   "language": "python",
   "name": "python2"
  },
  "language_info": {
   "codemirror_mode": {
    "name": "ipython",
    "version": 2
   },
   "file_extension": ".py",
   "mimetype": "text/x-python",
   "name": "python",
   "nbconvert_exporter": "python",
   "pygments_lexer": "ipython2",
   "version": "2.7.15"
  }
 },
 "nbformat": 4,
 "nbformat_minor": 2
}
