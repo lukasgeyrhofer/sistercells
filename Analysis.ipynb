{
 "cells": [
  {
   "cell_type": "code",
   "execution_count": 2,
   "metadata": {},
   "outputs": [
    {
     "name": "stderr",
     "output_type": "stream",
     "text": [
      "/usr/lib64/python2.7/site-packages/statsmodels/compat/pandas.py:56: FutureWarning: The pandas.core.datetools module is deprecated and will be removed in a future version. Please use the pandas.tseries module instead.\n",
      "  from pandas.core import datetools\n"
     ]
    }
   ],
   "source": [
    "from imp import reload\n",
    "\n",
    "import numpy as np\n",
    "import pandas as pd\n",
    "import sys,math\n",
    "import sistercellclass as scc; reload(scc)\n",
    "import os\n",
    "\n",
    "import statsmodels.api as sm\n",
    "\n",
    "import matplotlib.pyplot as plt\n",
    "%matplotlib notebook\n",
    "# %matplotlib inline\n",
    "plt.rcParams['figure.figsize'] = [16, 9]\n"
   ]
  },
  {
   "cell_type": "code",
   "execution_count": 3,
   "metadata": {},
   "outputs": [],
   "source": [
    "datadir   = '/home/lukas/projects/sistercells/experiments/SISTERS-NONSISTERS/SISTERS/'\n",
    "datafiles = [os.path.join(datadir,fn) for fn in os.listdir(datadir) if os.path.splitext(fn)[1][1:].upper() == 'XLS']\n",
    "\n",
    "#datafiles = ['/home/lukas/projects/sistercells/experiments/SISTERS-NONSISTERS/SISTERS/072818POS9_ch2t_sis2.xls']\n",
    "\n",
    "data      = scc.SisterCellData(infiles = datafiles, debugmode = False)"
   ]
  },
  {
   "cell_type": "code",
   "execution_count": null,
   "metadata": {},
   "outputs": [],
   "source": [
    "\n",
    "for dataID,filename,x in data:\n",
    "    #print dataID,filename\n",
    "    cdivA,cdivB = data.CellDivisionTrajectory(dataID)\n",
    "    #print np.array(cdivA['generationtimeA']),np.array(cdivB['generationtimeB'])\n",
    "    if dataID == 0:\n",
    "        gentime = np.concatenate([np.array(cdivA['generationtimeA']),np.array(cdivB['generationtimeB'])])\n",
    "    else:\n",
    "        gentime = np.concatenate([gentime,np.array(cdivA['generationtimeA']),np.array(cdivB['generationtimeB'])])\n",
    "    #print\n",
    "\n",
    "#np.savetxt('tmp.txt',gentime)\n",
    "#plt.hist(gentime,range=(0,2),bins=40,log=True)\n",
    "#print gentime\n",
    "#print max(gentime)\n",
    "#gth = dict()\n",
    "#for x in np.arange(0,2.1,.05):\n",
    "#    gth['{:.2f}'.format(x)] = 0\n",
    "#for g in gentime:\n",
    "#    gth['{:.2f}'.format(g)] += 1\n",
    "\n",
    "#print gth\n"
   ]
  },
  {
   "cell_type": "code",
   "execution_count": null,
   "metadata": {},
   "outputs": [],
   "source": [
    "def autocorrelation (x) :\n",
    "    \"\"\"\n",
    "    Compute the autocorrelation of the signal, based on the properties of the\n",
    "    power spectral density of the signal.\n",
    "    \"\"\"\n",
    "    xp = x-np.mean(x)\n",
    "    f = np.fft.fft(xp)\n",
    "    p = np.array([np.real(v)**2+np.imag(v)**2 for v in f])\n",
    "    pi = np.fft.ifft(p)\n",
    "    return np.real(pi)[:x.size/2]/np.sum(xp**2)"
   ]
  },
  {
   "cell_type": "code",
   "execution_count": null,
   "metadata": {},
   "outputs": [],
   "source": [
    "acf = dict()\n",
    "for dataID,filename,x in data:\n",
    "    a,b = data.CellDivisionTrajectory(dataID)\n",
    "    for k in [kk for kk in a.keys() if kk[:4]!='time']:\n",
    "        if not k[:-1] in acf.keys():\n",
    "            acf[k[:-1]] = list()\n",
    "        if len(a[k]) > 0:\n",
    "            tmpacf = autocorrelation(a[k])\n",
    "            if not np.isnan(tmpacf).any():\n",
    "                acf[k[:-1]].append(tmpacf)\n",
    "        if len(b[k[:-1]+'B']) > 0:\n",
    "            tmpacf = autocorrelation(b[k[:-1] + 'B'])\n",
    "            if not np.isnan(tmpacf).any():\n",
    "                acf[k[:-1]].append(tmpacf)\n",
    "\n",
    "acf_avg = dict()\n",
    "for k in acf.keys():\n",
    "    maxl  = np.max([len(a) for a in acf[k]])\n",
    "    count = np.zeros(maxl)\n",
    "    acf_avg[k] = np.zeros(maxl)\n",
    "    for a in acf[k]:\n",
    "        acf_avg[k][:len(a)] += a\n",
    "        count[:len(a)] += 1.\n",
    "    acf_avg[k] /= count\n",
    "    print k\n",
    "    #print acf_avg[k]\n",
    "    plt.plot(np.arange(15),acf_avg[k][:15],label = k)\n",
    "plt.plot(np.arange(15),np.zeros(15))\n",
    "plt.legend()\n",
    "plt.show()\n",
    "\n",
    "plt.plot(count)\n",
    "\n",
    "for k in acf_avg.keys():\n",
    "    np.savetxt('ACF_{}.txt'.format(k),np.array([np.arange(len(acf_avg[k])),acf_avg[k]]).T)"
   ]
  },
  {
   "cell_type": "code",
   "execution_count": null,
   "metadata": {},
   "outputs": [],
   "source": [
    "def gauss(x,mean,sigma2):\n",
    "    return np.exp(-(x-mean)**2/(2.*sigma2))/np.sqrt(2*math.pi*sigma2)\n",
    "\n",
    "maxcount = 30\n",
    "\n",
    "countdiv = np.zeros(maxcount)\n",
    "for dataID,fn,x in data:\n",
    "    a,b = data.CellDivisionTrajectory(dataID)\n",
    "    for t in np.array(a['generationtimeA']/.05,dtype=int):\n",
    "        if t < maxcount: countdiv[t] += 1\n",
    "    for t in np.array(b['generationtimeB']/.05,dtype=int):\n",
    "        if t < maxcount: countdiv[t] += 1\n",
    "\n",
    "plt.plot(np.arange(maxcount),np.log10(countdiv/np.sum(countdiv)))\n",
    "plt.plot(np.arange(start=0,stop=maxcount,step=.05),np.log10(gauss(np.arange(start=0,stop=maxcount,step=.05),10.968599386592668,7.605410963650854)))\n",
    "plt.ylim((-np.log10(np.sum(countdiv))-.5,1))\n",
    "plt.show()"
   ]
  },
  {
   "cell_type": "code",
   "execution_count": null,
   "metadata": {},
   "outputs": [],
   "source": [
    "m = np.sum(np.arange(maxcount) * countdiv)/np.sum(countdiv)\n",
    "v = np.sum(np.arange(maxcount)**2 * countdiv)/np.sum(countdiv) - (np.sum(np.arange(maxcount)*countdiv)/np.sum(countdiv))**2\n",
    "print 'mean: {}, sigma2: {}'.format(m,v)\n",
    "\n",
    "print 'count all division events: {}'.format(np.sum(countdiv,dtype=int))\n"
   ]
  },
  {
   "cell_type": "code",
   "execution_count": 15,
   "metadata": {},
   "outputs": [
    {
     "name": "stderr",
     "output_type": "stream",
     "text": [
      "sistercellclass.py:67: RuntimeWarning: invalid value encountered in double_scalars\n",
      "  b         = (n*sxy - sx*sy)/denom\n"
     ]
    },
    {
     "ename": "NameError",
     "evalue": "name 'acf_pavg' is not defined",
     "output_type": "error",
     "traceback": [
      "\u001b[0;31m---------------------------------------------------------------------------\u001b[0m",
      "\u001b[0;31mNameError\u001b[0m                                 Traceback (most recent call last)",
      "\u001b[0;32m<ipython-input-15-bff88fcce321>\u001b[0m in \u001b[0;36m<module>\u001b[0;34m()\u001b[0m\n\u001b[1;32m     22\u001b[0m     \u001b[0mcountp\u001b[0m      \u001b[0;34m=\u001b[0m \u001b[0mnp\u001b[0m\u001b[0;34m.\u001b[0m\u001b[0mzeros\u001b[0m\u001b[0;34m(\u001b[0m\u001b[0mmaxlp\u001b[0m\u001b[0;34m)\u001b[0m\u001b[0;34m\u001b[0m\u001b[0m\n\u001b[1;32m     23\u001b[0m     \u001b[0macf_avg\u001b[0m\u001b[0;34m[\u001b[0m\u001b[0mk\u001b[0m\u001b[0;34m]\u001b[0m  \u001b[0;34m=\u001b[0m \u001b[0mnp\u001b[0m\u001b[0;34m.\u001b[0m\u001b[0mzeros\u001b[0m\u001b[0;34m(\u001b[0m\u001b[0mmaxl\u001b[0m\u001b[0;34m)\u001b[0m\u001b[0;34m\u001b[0m\u001b[0m\n\u001b[0;32m---> 24\u001b[0;31m     \u001b[0macf_pavg\u001b[0m\u001b[0;34m[\u001b[0m\u001b[0mk\u001b[0m\u001b[0;34m]\u001b[0m \u001b[0;34m=\u001b[0m \u001b[0mnp\u001b[0m\u001b[0;34m.\u001b[0m\u001b[0mzeros\u001b[0m\u001b[0;34m(\u001b[0m\u001b[0mmaxlp\u001b[0m\u001b[0;34m)\u001b[0m\u001b[0;34m\u001b[0m\u001b[0m\n\u001b[0m\u001b[1;32m     25\u001b[0m     \u001b[0;32mfor\u001b[0m \u001b[0ma\u001b[0m \u001b[0;32min\u001b[0m \u001b[0macf\u001b[0m\u001b[0;34m[\u001b[0m\u001b[0mk\u001b[0m\u001b[0;34m]\u001b[0m\u001b[0;34m:\u001b[0m\u001b[0;34m\u001b[0m\u001b[0m\n\u001b[1;32m     26\u001b[0m         \u001b[0macf_avg\u001b[0m\u001b[0;34m[\u001b[0m\u001b[0mk\u001b[0m\u001b[0;34m]\u001b[0m\u001b[0;34m[\u001b[0m\u001b[0;34m:\u001b[0m\u001b[0mlen\u001b[0m\u001b[0;34m(\u001b[0m\u001b[0ma\u001b[0m\u001b[0;34m)\u001b[0m\u001b[0;34m]\u001b[0m \u001b[0;34m+=\u001b[0m \u001b[0ma\u001b[0m\u001b[0;34m\u001b[0m\u001b[0m\n",
      "\u001b[0;31mNameError\u001b[0m: name 'acf_pavg' is not defined"
     ]
    }
   ],
   "source": [
    "acf  = dict()\n",
    "pacf = dict()\n",
    "for dataID,filename,x in data:\n",
    "    a,b = data.CellDivisionTrajectory(dataID)\n",
    "    for k in [kk[:-1] for kk in a.keys() if kk[:-1] != 'time']:\n",
    "        if not k in acf.keys():\n",
    "            acf[k]  = list()\n",
    "            pacf[k] = list()\n",
    "        la,lb = len(a[k + 'A']),len(b[k + 'B'])\n",
    "        if la > 1:\n",
    "            acf[k].append(sm.tsa.stattools.acf(a[k + 'A'], nlags = min((20,la)), missing = 'drop'))\n",
    "            pacf[k].append(sm.tsa.stattools.pacf(a[k + 'A'], nlags = min((20,la))))\n",
    "        if lb > 1:\n",
    "            acf[k].append(sm.tsa.stattools.acf(b[k + 'B'], nlags = min((20,lb)), missing = 'drop'))\n",
    "            pacf[k].append(sm.tsa.stattools.pacf(b[k + 'B'], nlags = min((20,lb))))\n",
    "\n",
    "acf_avg = dict()\n",
    "pacf_avg = dict()\n",
    "for k in acf.keys():\n",
    "    maxl        = np.max([len(a) for a in acf[k]])\n",
    "    count       = np.zeros(maxl)\n",
    "    maxlp       = np.max([len(a) for a in pacf[k]])\n",
    "    countp      = np.zeros(maxlp)\n",
    "    acf_avg[k]  = np.zeros(maxl)\n",
    "    pacf_avg[k] = np.zeros(maxlp)\n",
    "    for a in acf[k]:\n",
    "        acf_avg[k][:len(a)] += a\n",
    "        count[:len(a)] += 1.\n",
    "    acf_avg[k] /= count\n",
    "    print k\n",
    "    #print acf_avg[k]\n",
    "    plt.plot(np.arange(15),acf_avg[k][:15],label = k)\n",
    "    plt.plot(np.arange(15),acf_pavg[k][:15],label = 'p' + k)\n",
    "plt.plot(np.arange(15),np.zeros(15))\n",
    "plt.legend()\n",
    "plt.show()\n",
    "\n",
    "plt.plot(count)\n",
    "\n",
    "for k in acf_avg.keys():\n",
    "    np.savetxt('ACF_{}.txt'.format(k),np.array([np.arange(len(acf_avg[k])),acf_avg[k]]).T)"
   ]
  },
  {
   "cell_type": "code",
   "execution_count": null,
   "metadata": {},
   "outputs": [],
   "source": []
  }
 ],
 "metadata": {
  "kernelspec": {
   "display_name": "Python 2",
   "language": "python",
   "name": "python2"
  },
  "language_info": {
   "codemirror_mode": {
    "name": "ipython",
    "version": 2
   },
   "file_extension": ".py",
   "mimetype": "text/x-python",
   "name": "python",
   "nbconvert_exporter": "python",
   "pygments_lexer": "ipython2",
   "version": "2.7.15"
  }
 },
 "nbformat": 4,
 "nbformat_minor": 2
}
